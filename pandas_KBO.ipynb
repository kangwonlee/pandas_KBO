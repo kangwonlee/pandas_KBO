{
  "nbformat": 4,
  "nbformat_minor": 0,
  "metadata": {
    "colab": {
      "private_outputs": true,
      "provenance": [],
      "authorship_tag": "ABX9TyMF4O0St/z7/PLPLWU3zzJo",
      "include_colab_link": true
    },
    "kernelspec": {
      "name": "python3",
      "display_name": "Python 3"
    },
    "language_info": {
      "name": "python"
    }
  },
  "cells": [
    {
      "cell_type": "markdown",
      "metadata": {
        "id": "view-in-github",
        "colab_type": "text"
      },
      "source": [
        "<a href=\"https://colab.research.google.com/github/kangwonlee/pandas_KBO/blob/main/pandas_KBO.ipynb\" target=\"_parent\"><img src=\"https://colab.research.google.com/assets/colab-badge.svg\" alt=\"Open In Colab\"/></a>"
      ]
    },
    {
      "cell_type": "code",
      "execution_count": null,
      "metadata": {
        "id": "SGD4ZlLaRlv2"
      },
      "outputs": [],
      "source": [
        "import pandas as pd"
      ]
    },
    {
      "cell_type": "code",
      "source": [
        "df_list = pd.read_html('https://www.koreabaseball.com/TeamRank/TeamRank.aspx')"
      ],
      "metadata": {
        "id": "hFO_syWJRq6f"
      },
      "execution_count": null,
      "outputs": []
    },
    {
      "cell_type": "markdown",
      "source": [
        "How many tables? 읽은 표의 수"
      ],
      "metadata": {
        "id": "z5gYPfBLR4AP"
      }
    },
    {
      "cell_type": "code",
      "source": [
        "len(df_list)"
      ],
      "metadata": {
        "id": "AyRlmIxyRzzO"
      },
      "execution_count": null,
      "outputs": []
    },
    {
      "cell_type": "markdown",
      "source": [
        "첫번째 표"
      ],
      "metadata": {
        "id": "q5etcYDESChG"
      }
    },
    {
      "cell_type": "code",
      "source": [
        "df_list[0]"
      ],
      "metadata": {
        "id": "hUCev8XzR2RG"
      },
      "execution_count": null,
      "outputs": []
    },
    {
      "cell_type": "markdown",
      "source": [
        "두번째 표"
      ],
      "metadata": {
        "id": "_vfG8eJkSEn-"
      }
    },
    {
      "cell_type": "code",
      "source": [
        "df_list[1]"
      ],
      "metadata": {
        "id": "fL8r7N3vR9YO"
      },
      "execution_count": null,
      "outputs": []
    },
    {
      "cell_type": "code",
      "source": [],
      "metadata": {
        "id": "o3TbRijcSGz-"
      },
      "execution_count": null,
      "outputs": []
    }
  ]
}